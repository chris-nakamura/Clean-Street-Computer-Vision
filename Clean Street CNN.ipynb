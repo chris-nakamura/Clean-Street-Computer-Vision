{
 "cells": [
  {
   "cell_type": "code",
   "execution_count": 124,
   "metadata": {},
   "outputs": [],
   "source": [
    "import sys\n",
    "import os\n",
    "import pandas as pd\n",
    "import numpy as np\n",
    "import tensorflow as tf\n",
    "import sklearn.model_selection as sk\n",
    "from tensorflow import keras\n",
    "import matplotlib.pyplot as plt"
   ]
  },
  {
   "cell_type": "code",
   "execution_count": 32,
   "metadata": {},
   "outputs": [],
   "source": [
    "def define_paths(datafolder,labeldata):\n",
    "    datapaths = []\n",
    "    labels = []\n",
    "    df = pd.read_csv(labeldata).sort_values(by='filename')\n",
    "    files = os.listdir(datafolder)\n",
    "    for i in range(0,len(df)):\n",
    "        path=os.path.join(datafolder,df.iloc[i,0])\n",
    "        datapaths.append(path)\n",
    "        labels.append(df.iloc[i,1])\n",
    "    return datapaths,labels"
   ]
  },
  {
   "cell_type": "code",
   "execution_count": 109,
   "metadata": {},
   "outputs": [],
   "source": [
    "def image_to_data(img,img_size):\n",
    "    image=tf.io.decode_jpeg(tf.io.read_file(img)\n",
    "                           ,channels = 3)\n",
    "    #image=tf.image.convert_image_dtype(image,tf.float32)\n",
    "    image=tf.image.resize(image,img_size)\n",
    "    return image"
   ]
  },
  {
   "cell_type": "code",
   "execution_count": 165,
   "metadata": {},
   "outputs": [],
   "source": [
    "paths,groups = define_paths(\"C:\\\\Users\\\\cnaka\\\\Downloads\\\\archive (2)\\\\Images\\\\Images\",\"C:\\\\Users\\\\cnaka\\\\Downloads\\\\archive (2)\\\\metadata.csv\")"
   ]
  },
  {
   "cell_type": "code",
   "execution_count": 166,
   "metadata": {},
   "outputs": [],
   "source": [
    "l = []\n",
    "x=0\n",
    "for i in paths:\n",
    "    try:\n",
    "        l.append(image_to_data(i,[480,480]))\n",
    "    except:\n",
    "        groups.pop(x)\n",
    "    x=x+1"
   ]
  },
  {
   "cell_type": "code",
   "execution_count": 167,
   "metadata": {},
   "outputs": [
    {
     "name": "stdout",
     "output_type": "stream",
     "text": [
      "222 222\n"
     ]
    }
   ],
   "source": [
    "print(len(groups),len(l))"
   ]
  },
  {
   "cell_type": "code",
   "execution_count": 168,
   "metadata": {},
   "outputs": [],
   "source": [
    "x_train, x_test,y_train,y_test = sk.train_test_split(l,groups,test_size=.2)\n",
    "x_train=np.array(x_train)\n",
    "x_test=np.array(x_test)\n",
    "y_train=np.array(y_train)\n",
    "y_test=np.array(y_test)"
   ]
  },
  {
   "cell_type": "code",
   "execution_count": 169,
   "metadata": {},
   "outputs": [
    {
     "data": {
      "text/plain": [
       "<BatchDataset shapes: ((None, 480, 480, 3), (None,)), types: (tf.float32, tf.int32)>"
      ]
     },
     "execution_count": 169,
     "metadata": {},
     "output_type": "execute_result"
    }
   ],
   "source": [
    "data=tf.data.Dataset.from_tensor_slices((l,groups))\n",
    "data.batch(11)"
   ]
  },
  {
   "cell_type": "code",
   "execution_count": 176,
   "metadata": {},
   "outputs": [],
   "source": [
    "initializer=tf.keras.initializers.HeNormal()\n",
    "model = keras.models.Sequential([\n",
    "    keras.layers.Conv2D(64,7,activation='relu',padding='same',input_shape=(480,480,3),kernel_initializer=initializer),\n",
    "    keras.layers.MaxPooling2D(2),\n",
    "    keras.layers.Conv2D(128,3,activation='relu',padding='same',kernel_initializer=initializer),\n",
    "    keras.layers.Conv2D(128,3,activation='relu',padding='same',kernel_initializer=initializer),\n",
    "    keras.layers.MaxPooling2D(2),\n",
    "    keras.layers.Conv2D(256,3,activation='relu',padding='same',kernel_initializer=initializer),\n",
    "    keras.layers.Conv2D(256,3,activation='relu',padding='same',kernel_initializer=initializer),\n",
    "    keras.layers.MaxPooling2D(2),\n",
    "    keras.layers.Flatten(),\n",
    "    keras.layers.Dense(128,activation='relu',kernel_initializer=initializer),\n",
    "    keras.layers.Dropout(0.5),\n",
    "    keras.layers.Dense(64,activation='relu',kernel_initializer=initializer),\n",
    "    keras.layers.Dropout(0.5),\n",
    "    keras.layers.Dense(1,activation='sigmoid')\n",
    "])"
   ]
  },
  {
   "cell_type": "code",
   "execution_count": 177,
   "metadata": {},
   "outputs": [
    {
     "name": "stdout",
     "output_type": "stream",
     "text": [
      "Epoch 1/100\n",
      "18/18 [==============================] - 175s 10s/step - loss: 6308.6454 - accuracy: 0.5064\n",
      "Epoch 2/100\n",
      "18/18 [==============================] - 205s 11s/step - loss: 0.6986 - accuracy: 0.4664\n",
      "Epoch 3/100\n",
      "18/18 [==============================] - 225s 12s/step - loss: 0.7722 - accuracy: 0.5174\n",
      "Epoch 4/100\n",
      "18/18 [==============================] - 223s 12s/step - loss: 0.7170 - accuracy: 0.4909\n",
      "Epoch 5/100\n",
      "18/18 [==============================] - 224s 12s/step - loss: 0.6618 - accuracy: 0.5639\n",
      "Epoch 6/100\n",
      "18/18 [==============================] - 226s 13s/step - loss: 0.6955 - accuracy: 0.5727\n",
      "Epoch 7/100\n",
      "18/18 [==============================] - 226s 13s/step - loss: 0.6941 - accuracy: 0.4444\n",
      "Epoch 8/100\n",
      "18/18 [==============================] - 224s 12s/step - loss: 0.6997 - accuracy: 0.4782\n",
      "Epoch 9/100\n",
      "18/18 [==============================] - 225s 12s/step - loss: 0.6949 - accuracy: 0.5037\n",
      "Epoch 10/100\n",
      "18/18 [==============================] - 223s 12s/step - loss: 0.6938 - accuracy: 0.5175\n",
      "Epoch 11/100\n",
      "18/18 [==============================] - 222s 12s/step - loss: 0.6921 - accuracy: 0.5453\n",
      "Epoch 12/100\n",
      "18/18 [==============================] - 223s 12s/step - loss: 0.6901 - accuracy: 0.5144\n",
      "Epoch 13/100\n",
      "18/18 [==============================] - 226s 13s/step - loss: 0.6931 - accuracy: 0.5318\n",
      "Epoch 14/100\n",
      "18/18 [==============================] - 224s 12s/step - loss: 0.6877 - accuracy: 0.5269\n",
      "Epoch 15/100\n",
      "18/18 [==============================] - 222s 12s/step - loss: 0.6863 - accuracy: 0.5927\n",
      "Epoch 16/100\n",
      "18/18 [==============================] - 220s 12s/step - loss: 0.7074 - accuracy: 0.5487\n",
      "Epoch 17/100\n",
      "18/18 [==============================] - 222s 12s/step - loss: 1.2773 - accuracy: 0.5173\n",
      "Epoch 18/100\n",
      "18/18 [==============================] - 221s 12s/step - loss: 0.6881 - accuracy: 0.5785\n",
      "Epoch 19/100\n",
      "18/18 [==============================] - 223s 12s/step - loss: 0.6922 - accuracy: 0.5321\n",
      "Epoch 20/100\n",
      "18/18 [==============================] - 221s 12s/step - loss: 0.6871 - accuracy: 0.5806\n",
      "Epoch 21/100\n",
      "18/18 [==============================] - 221s 12s/step - loss: 0.6853 - accuracy: 0.5862\n",
      "Epoch 22/100\n",
      "18/18 [==============================] - 222s 12s/step - loss: 0.6885 - accuracy: 0.5624\n",
      "Epoch 23/100\n",
      "18/18 [==============================] - 222s 12s/step - loss: 0.6922 - accuracy: 0.5211\n",
      "Epoch 24/100\n",
      "18/18 [==============================] - 220s 12s/step - loss: 0.6920 - accuracy: 0.5339\n",
      "Epoch 25/100\n",
      "18/18 [==============================] - 221s 12s/step - loss: 0.6968 - accuracy: 0.4833\n",
      "Epoch 26/100\n",
      "18/18 [==============================] - 221s 12s/step - loss: 0.6900 - accuracy: 0.5531\n",
      "Epoch 27/100\n",
      "18/18 [==============================] - 221s 12s/step - loss: 0.6943 - accuracy: 0.5099\n",
      "Epoch 28/100\n",
      "18/18 [==============================] - 220s 12s/step - loss: 0.6908 - accuracy: 0.5190\n",
      "Epoch 29/100\n",
      "18/18 [==============================] - 221s 12s/step - loss: 0.6833 - accuracy: 0.5947\n",
      "Epoch 30/100\n",
      "18/18 [==============================] - 224s 12s/step - loss: 0.6880 - accuracy: 0.5550\n",
      "Epoch 31/100\n",
      "18/18 [==============================] - 224s 12s/step - loss: 0.6839 - accuracy: 0.5224\n",
      "Epoch 32/100\n",
      "18/18 [==============================] - 225s 12s/step - loss: 0.6920 - accuracy: 0.5083\n",
      "Epoch 33/100\n",
      "18/18 [==============================] - 223s 12s/step - loss: 0.6897 - accuracy: 0.5324\n",
      "Epoch 34/100\n",
      "18/18 [==============================] - 222s 12s/step - loss: 0.6917 - accuracy: 0.5143\n",
      "Epoch 35/100\n",
      "18/18 [==============================] - 229s 13s/step - loss: 0.6902 - accuracy: 0.5308\n",
      "Epoch 36/100\n",
      "18/18 [==============================] - 229s 13s/step - loss: 0.6903 - accuracy: 0.5448\n",
      "Epoch 37/100\n",
      "18/18 [==============================] - 232s 13s/step - loss: 0.6804 - accuracy: 0.5615\n",
      "Epoch 38/100\n",
      "18/18 [==============================] - 225s 12s/step - loss: 0.6830 - accuracy: 0.5137\n",
      "Epoch 39/100\n",
      "18/18 [==============================] - 225s 13s/step - loss: 0.6801 - accuracy: 0.5472\n",
      "Epoch 40/100\n",
      "18/18 [==============================] - 227s 13s/step - loss: 0.6874 - accuracy: 0.5707\n",
      "Epoch 41/100\n",
      "18/18 [==============================] - 232s 13s/step - loss: 0.6862 - accuracy: 0.5183\n",
      "Epoch 42/100\n",
      "18/18 [==============================] - 241s 13s/step - loss: 0.6834 - accuracy: 0.5610\n",
      "Epoch 43/100\n",
      "18/18 [==============================] - 230s 13s/step - loss: 0.6814 - accuracy: 0.5856\n",
      "Epoch 44/100\n",
      "18/18 [==============================] - 222s 12s/step - loss: 0.6846 - accuracy: 0.5314\n",
      "Epoch 45/100\n",
      "18/18 [==============================] - 224s 12s/step - loss: 0.6954 - accuracy: 0.5465\n",
      "Epoch 46/100\n",
      "18/18 [==============================] - 222s 12s/step - loss: 0.6828 - accuracy: 0.5906\n",
      "Epoch 47/100\n",
      "18/18 [==============================] - 221s 12s/step - loss: 0.6841 - accuracy: 0.5857\n",
      "Epoch 48/100\n",
      "18/18 [==============================] - 222s 12s/step - loss: 0.6882 - accuracy: 0.5581\n",
      "Epoch 49/100\n",
      "18/18 [==============================] - 223s 12s/step - loss: 0.6847 - accuracy: 0.5631\n",
      "Epoch 50/100\n",
      "18/18 [==============================] - 226s 13s/step - loss: 0.6968 - accuracy: 0.4886\n",
      "Epoch 51/100\n",
      "18/18 [==============================] - 223s 12s/step - loss: 0.6823 - accuracy: 0.5356\n",
      "Epoch 52/100\n",
      "18/18 [==============================] - 221s 12s/step - loss: 0.6880 - accuracy: 0.5214\n",
      "Epoch 53/100\n",
      "18/18 [==============================] - 224s 12s/step - loss: 0.6911 - accuracy: 0.5365\n",
      "Epoch 54/100\n",
      "18/18 [==============================] - 224s 12s/step - loss: 0.6752 - accuracy: 0.5843\n",
      "Epoch 55/100\n",
      "18/18 [==============================] - 225s 13s/step - loss: 0.6807 - accuracy: 0.5625\n",
      "Epoch 56/100\n",
      "18/18 [==============================] - 221s 12s/step - loss: 0.6903 - accuracy: 0.5285\n",
      "Epoch 57/100\n",
      "18/18 [==============================] - 222s 12s/step - loss: 0.6885 - accuracy: 0.5187\n",
      "Epoch 58/100\n",
      "18/18 [==============================] - 224s 12s/step - loss: 0.6833 - accuracy: 0.5667\n",
      "Epoch 59/100\n",
      "18/18 [==============================] - 223s 12s/step - loss: 0.6898 - accuracy: 0.5344\n",
      "Epoch 60/100\n",
      "18/18 [==============================] - 222s 12s/step - loss: 0.6744 - accuracy: 0.6057\n",
      "Epoch 61/100\n",
      "18/18 [==============================] - 221s 12s/step - loss: 0.6919 - accuracy: 0.5173\n",
      "Epoch 62/100\n",
      "18/18 [==============================] - 222s 12s/step - loss: 0.6950 - accuracy: 0.4961\n",
      "Epoch 63/100\n",
      "18/18 [==============================] - 220s 12s/step - loss: 0.6867 - accuracy: 0.5415\n",
      "Epoch 64/100\n",
      "18/18 [==============================] - 222s 12s/step - loss: 0.6864 - accuracy: 0.5532\n",
      "Epoch 65/100\n",
      "18/18 [==============================] - 223s 12s/step - loss: 0.6947 - accuracy: 0.5108\n",
      "Epoch 66/100\n",
      "18/18 [==============================] - 225s 12s/step - loss: 0.6872 - accuracy: 0.5359\n",
      "Epoch 67/100\n",
      "18/18 [==============================] - 222s 12s/step - loss: 0.6942 - accuracy: 0.5160\n",
      "Epoch 68/100\n",
      "18/18 [==============================] - 221s 12s/step - loss: 0.6848 - accuracy: 0.5334\n",
      "Epoch 69/100\n",
      "18/18 [==============================] - 221s 12s/step - loss: 0.6847 - accuracy: 0.5227\n",
      "Epoch 70/100\n",
      "18/18 [==============================] - 224s 12s/step - loss: 0.6873 - accuracy: 0.5466\n",
      "Epoch 71/100\n",
      "18/18 [==============================] - 225s 12s/step - loss: 0.6855 - accuracy: 0.5460\n",
      "Epoch 72/100\n",
      "18/18 [==============================] - 222s 12s/step - loss: 0.6871 - accuracy: 0.5440\n",
      "Epoch 73/100\n",
      "18/18 [==============================] - 220s 12s/step - loss: 0.6939 - accuracy: 0.5099\n",
      "Epoch 74/100\n",
      "18/18 [==============================] - 222s 12s/step - loss: 0.6858 - accuracy: 0.5446\n",
      "Epoch 75/100\n",
      "18/18 [==============================] - 225s 12s/step - loss: 0.6882 - accuracy: 0.5415\n",
      "Epoch 76/100\n",
      "18/18 [==============================] - 223s 12s/step - loss: 0.6775 - accuracy: 0.5652\n",
      "Epoch 77/100\n",
      "18/18 [==============================] - 225s 12s/step - loss: 0.6831 - accuracy: 0.5451\n",
      "Epoch 78/100\n",
      "18/18 [==============================] - 223s 12s/step - loss: 0.6799 - accuracy: 0.5466\n",
      "Epoch 79/100\n",
      "18/18 [==============================] - 224s 12s/step - loss: 0.6800 - accuracy: 0.5747\n",
      "Epoch 80/100\n",
      "18/18 [==============================] - 221s 12s/step - loss: 0.6879 - accuracy: 0.5293\n",
      "Epoch 81/100\n"
     ]
    },
    {
     "name": "stdout",
     "output_type": "stream",
     "text": [
      "18/18 [==============================] - 221s 12s/step - loss: 0.6872 - accuracy: 0.5282\n",
      "Epoch 82/100\n",
      "18/18 [==============================] - 221s 12s/step - loss: 0.6886 - accuracy: 0.5506\n",
      "Epoch 83/100\n",
      "18/18 [==============================] - 221s 12s/step - loss: 0.6857 - accuracy: 0.5577\n",
      "Epoch 84/100\n",
      "18/18 [==============================] - 231s 13s/step - loss: 0.6908 - accuracy: 0.5194\n",
      "Epoch 85/100\n",
      "18/18 [==============================] - 252s 14s/step - loss: 0.6860 - accuracy: 0.5435\n",
      "Epoch 86/100\n",
      "18/18 [==============================] - 232s 13s/step - loss: 0.6890 - accuracy: 0.5229\n",
      "Epoch 87/100\n",
      "18/18 [==============================] - 225s 12s/step - loss: 0.6931 - accuracy: 0.5488\n",
      "Epoch 88/100\n",
      "18/18 [==============================] - 224s 12s/step - loss: 0.6872 - accuracy: 0.5476\n",
      "Epoch 89/100\n",
      "18/18 [==============================] - 223s 12s/step - loss: 0.6798 - accuracy: 0.5585\n",
      "Epoch 90/100\n",
      "18/18 [==============================] - 222s 12s/step - loss: 0.6899 - accuracy: 0.5356\n",
      "Epoch 91/100\n",
      "18/18 [==============================] - 224s 12s/step - loss: 0.6776 - accuracy: 0.5664\n",
      "Epoch 92/100\n",
      "18/18 [==============================] - 223s 12s/step - loss: 0.6799 - accuracy: 0.5744\n",
      "Epoch 93/100\n",
      "18/18 [==============================] - 223s 12s/step - loss: 0.6812 - accuracy: 0.5799\n",
      "Epoch 94/100\n",
      "18/18 [==============================] - 223s 12s/step - loss: 0.6973 - accuracy: 0.5033\n",
      "Epoch 95/100\n",
      "18/18 [==============================] - 222s 12s/step - loss: 0.6783 - accuracy: 0.5981\n",
      "Epoch 96/100\n",
      "18/18 [==============================] - 223s 12s/step - loss: 0.6745 - accuracy: 0.6229\n",
      "Epoch 97/100\n",
      "18/18 [==============================] - 224s 12s/step - loss: 0.6892 - accuracy: 0.5269\n",
      "Epoch 98/100\n",
      "18/18 [==============================] - 224s 12s/step - loss: 0.6895 - accuracy: 0.5145\n",
      "Epoch 99/100\n",
      "18/18 [==============================] - 221s 12s/step - loss: 0.6836 - accuracy: 0.5675\n",
      "Epoch 100/100\n",
      "18/18 [==============================] - 220s 12s/step - loss: 0.6889 - accuracy: 0.5249\n"
     ]
    },
    {
     "data": {
      "text/plain": [
       "<tensorflow.python.keras.callbacks.History at 0x2c3b4e77640>"
      ]
     },
     "execution_count": 177,
     "metadata": {},
     "output_type": "execute_result"
    }
   ],
   "source": [
    "model.compile(optimizer='adam',loss='binary_crossentropy',metrics='accuracy')\n",
    "model.fit(x_train,y_train,\n",
    "          epochs=100,\n",
    "          batch_size=10\n",
    "         )"
   ]
  },
  {
   "cell_type": "code",
   "execution_count": 161,
   "metadata": {},
   "outputs": [
    {
     "data": {
      "text/plain": [
       "<TensorSliceDataset shapes: ((128, 128, 3), ()), types: (tf.float32, tf.int32)>"
      ]
     },
     "execution_count": 161,
     "metadata": {},
     "output_type": "execute_result"
    }
   ],
   "source": [
    "data"
   ]
  },
  {
   "cell_type": "code",
   "execution_count": null,
   "metadata": {},
   "outputs": [],
   "source": []
  }
 ],
 "metadata": {
  "kernelspec": {
   "display_name": "Python 3",
   "language": "python",
   "name": "python3"
  },
  "language_info": {
   "codemirror_mode": {
    "name": "ipython",
    "version": 3
   },
   "file_extension": ".py",
   "mimetype": "text/x-python",
   "name": "python",
   "nbconvert_exporter": "python",
   "pygments_lexer": "ipython3",
   "version": "3.8.3"
  }
 },
 "nbformat": 4,
 "nbformat_minor": 4
}
